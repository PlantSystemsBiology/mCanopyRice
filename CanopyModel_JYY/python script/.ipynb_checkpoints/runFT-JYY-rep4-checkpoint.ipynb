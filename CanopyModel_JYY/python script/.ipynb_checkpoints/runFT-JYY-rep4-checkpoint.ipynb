{
 "cells": [
  {
   "cell_type": "markdown",
   "id": "42393948",
   "metadata": {},
   "source": [
    "# for 0810 stage\n",
    "# JYY\n",
    "# 2024-04-03"
   ]
  },
  {
   "cell_type": "code",
   "execution_count": 15,
   "id": "6753ef59",
   "metadata": {},
   "outputs": [],
   "source": [
    "import os\n",
    "stageDates=['0711','0724','0810','0828']\n",
    "DOY=['192','205','222','240']\n",
    "s=2"
   ]
  },
  {
   "cell_type": "code",
   "execution_count": 16,
   "id": "1df1d5e1-b18c-4d07-bf25-ea3dcdf3b38f",
   "metadata": {},
   "outputs": [],
   "source": [
    "cultivarNames=['JY5B-ca1_F1','JP69-CA2_F1']"
   ]
  },
  {
   "cell_type": "code",
   "execution_count": 17,
   "id": "bab135cf",
   "metadata": {},
   "outputs": [],
   "source": [
    "traits=['TN','LN','SH','LL','LW','LS','LC','LA','TNLN']"
   ]
  },
  {
   "cell_type": "markdown",
   "id": "a6b37945",
   "metadata": {},
   "source": [
    "t is used for select one of these traits"
   ]
  },
  {
   "cell_type": "code",
   "execution_count": 18,
   "id": "4fb3df53",
   "metadata": {},
   "outputs": [],
   "source": [
    "rep=4"
   ]
  },
  {
   "cell_type": "code",
   "execution_count": 19,
   "id": "624bdc00",
   "metadata": {},
   "outputs": [
    {
     "name": "stdout",
     "output_type": "stream",
     "text": [
      "1\n",
      "..\\FastTracer_2021\\fastTracerVS2019.exe -D 30 90 30 90 0 120 -L 31 -S 12 -A 0.7 -d 222 -W 6.5 1 17.5 -n 0.1 -t 0.075 -r 0.075 -m ..\\CM\\CM_0810-JY5B-ca1_F1-TN-rep1.txt -o ..\\PPFD\\PPFD_0810-JY5B-ca1_F1-TN-rep1.txt\n",
      "['----- FastTracer will use the parameter values as following: -----\\n', '-D\\tDimension, X: 30 ~ 90\\tY: 30 ~ 90\\tZ: 0 ~ 120\\n', '-L\\tLatitude\\t31\\n', '-S\\tSolar time noon\\t12\\n', '-A\\tAtmospheric transmittance\\t0.7\\n', '-d\\tDay of year\\t222\\n', '-W\\tWhole day simulation, start time (hour): 6.5\\tinterval (hour): 1\\tend time (hour): 17.5\\n', '-h\\tTime (hour)（NA）\\n', '-n\\tLight nearest distance\\t0.1\\n', '-m\\tModel filename\\t..\\\\CM\\\\CM_0810-JY5B-ca1_F1-TN-rep1.txt\\n', '-o\\tOutput filename\\t..\\\\PPFD\\\\PPFD_0810-JY5B-ca1_F1-TN-rep1.txt\\n', '-t\\tLeaf transmittance\\t0.075 (7.5%)\\n', '-r\\tLeaf reflectance\\t0.075 (7.5%)\\n', '-s\\tSilence\\t1\\n', '-C\\tClimate filename\\t(NA)\\n', '-z\\tCell Size (unit: cm)\\t1\\n', '-R\\tRand seed\\t0\\n', \"-BRDF_n\\tBRDF's model n parameter\\t1.77\\n\", \"-BRDF_K\\tBRDF's model K parameter\\t0.05\\n\", \"-BRDF_rho\\tBRDF's model rho parameter\\t0.25\\n\", 'calculate or load climate data ...\\n', 'import canopy model ...\\n', '\\n', '04/03/24 22:17:08\\n', '\\n', '6.5 h,\\tDirect light ray tracing ... \\n', '\\n', '04/03/24 22:17:10\\n', '\\n', '6.5 h,\\tDiffuse light ray tracing ...\\n', '\\n', '04/03/24 22:17:11\\n', '\\n', '\\n', '04/03/24 22:17:11\\n', '\\n', '7.5 h,\\tDirect light ray tracing ... \\n', '\\n', '04/03/24 22:17:12\\n', '\\n', '7.5 h,\\tDiffuse light ray tracing ...\\n', '\\n', '04/03/24 22:17:14\\n', '\\n', '\\n', '04/03/24 22:17:14\\n', '\\n', '8.5 h,\\tDirect light ray tracing ... \\n', '\\n', '04/03/24 22:17:16\\n', '\\n', '8.5 h,\\tDiffuse light ray tracing ...\\n', '\\n', '04/03/24 22:17:19\\n', '\\n', '\\n', '04/03/24 22:17:19\\n', '\\n', '9.5 h,\\tDirect light ray tracing ... \\n', '\\n', '04/03/24 22:17:21\\n', '\\n', '9.5 h,\\tDiffuse light ray tracing ...\\n', '\\n', '04/03/24 22:17:24\\n', '\\n', '\\n', '04/03/24 22:17:24\\n', '\\n', '10.5 h,\\tDirect light ray tracing ... \\n', '\\n', '04/03/24 22:17:26\\n', '\\n', '10.5 h,\\tDiffuse light ray tracing ...\\n', '\\n', '04/03/24 22:17:30\\n', '\\n', '\\n', '04/03/24 22:17:30\\n', '\\n', '11.5 h,\\tDirect light ray tracing ... \\n', '\\n', '04/03/24 22:17:31\\n', '\\n', '11.5 h,\\tDiffuse light ray tracing ...\\n', '\\n', '04/03/24 22:17:34\\n', '\\n', '\\n', '04/03/24 22:17:34\\n', '\\n', '12.5 h,\\tDirect light ray tracing ... \\n', '\\n', '04/03/24 22:17:36\\n', '\\n', '12.5 h,\\tDiffuse light ray tracing ...\\n', '\\n', '04/03/24 22:17:39\\n', '\\n', '\\n', '04/03/24 22:17:39\\n', '\\n', '13.5 h,\\tDirect light ray tracing ... \\n', '\\n', '04/03/24 22:17:41\\n', '\\n', '13.5 h,\\tDiffuse light ray tracing ...\\n', '\\n', '04/03/24 22:17:45\\n', '\\n', '\\n', '04/03/24 22:17:45\\n', '\\n', '14.5 h,\\tDirect light ray tracing ... \\n', '\\n', '04/03/24 22:17:47\\n', '\\n', '14.5 h,\\tDiffuse light ray tracing ...\\n', '\\n', '04/03/24 22:17:51\\n', '\\n', '\\n', '04/03/24 22:17:51\\n', '\\n', '15.5 h,\\tDirect light ray tracing ... \\n', '\\n', '04/03/24 22:17:54\\n', '\\n', '15.5 h,\\tDiffuse light ray tracing ...\\n', '\\n', '04/03/24 22:17:58\\n', '\\n', '\\n', '04/03/24 22:17:58\\n', '\\n', '16.5 h,\\tDirect light ray tracing ... \\n', '\\n', '04/03/24 22:18:01\\n', '\\n', '16.5 h,\\tDiffuse light ray tracing ...\\n', '\\n', '04/03/24 22:18:04\\n', '\\n', '\\n', '04/03/24 22:18:04\\n', '\\n', '17.5 h,\\tDirect light ray tracing ... \\n', '\\n', '04/03/24 22:18:10\\n', '\\n', '17.5 h,\\tDiffuse light ray tracing ...\\n', '\\n', '04/03/24 22:18:13\\n', '\\n', 'Finish!\\n']\n",
      "2\n",
      "..\\FastTracer_2021\\fastTracerVS2019.exe -D 30 90 30 90 0 120 -L 31 -S 12 -A 0.7 -d 222 -W 6.5 1 17.5 -n 0.1 -t 0.075 -r 0.075 -m ..\\CM\\CM_0810-JY5B-ca1_F1-TN-rep2.txt -o ..\\PPFD\\PPFD_0810-JY5B-ca1_F1-TN-rep2.txt\n",
      "['----- FastTracer will use the parameter values as following: -----\\n', '-D\\tDimension, X: 30 ~ 90\\tY: 30 ~ 90\\tZ: 0 ~ 120\\n', '-L\\tLatitude\\t31\\n', '-S\\tSolar time noon\\t12\\n', '-A\\tAtmospheric transmittance\\t0.7\\n', '-d\\tDay of year\\t222\\n', '-W\\tWhole day simulation, start time (hour): 6.5\\tinterval (hour): 1\\tend time (hour): 17.5\\n', '-h\\tTime (hour)（NA）\\n', '-n\\tLight nearest distance\\t0.1\\n', '-m\\tModel filename\\t..\\\\CM\\\\CM_0810-JY5B-ca1_F1-TN-rep2.txt\\n', '-o\\tOutput filename\\t..\\\\PPFD\\\\PPFD_0810-JY5B-ca1_F1-TN-rep2.txt\\n', '-t\\tLeaf transmittance\\t0.075 (7.5%)\\n', '-r\\tLeaf reflectance\\t0.075 (7.5%)\\n', '-s\\tSilence\\t1\\n', '-C\\tClimate filename\\t(NA)\\n', '-z\\tCell Size (unit: cm)\\t1\\n', '-R\\tRand seed\\t0\\n', \"-BRDF_n\\tBRDF's model n parameter\\t1.77\\n\", \"-BRDF_K\\tBRDF's model K parameter\\t0.05\\n\", \"-BRDF_rho\\tBRDF's model rho parameter\\t0.25\\n\", 'calculate or load climate data ...\\n', 'import canopy model ...\\n', '\\n', '04/03/24 22:18:14\\n', '\\n', '6.5 h,\\tDirect light ray tracing ... \\n', '\\n', '04/03/24 22:18:16\\n', '\\n', '6.5 h,\\tDiffuse light ray tracing ...\\n', '\\n', '04/03/24 22:18:18\\n', '\\n', '\\n', '04/03/24 22:18:18\\n', '\\n', '7.5 h,\\tDirect light ray tracing ... \\n', '\\n', '04/03/24 22:18:20\\n', '\\n', '7.5 h,\\tDiffuse light ray tracing ...\\n', '\\n', '04/03/24 22:18:22\\n', '\\n', '\\n', '04/03/24 22:18:22\\n', '\\n', '8.5 h,\\tDirect light ray tracing ... \\n', '\\n', '04/03/24 22:18:24\\n', '\\n', '8.5 h,\\tDiffuse light ray tracing ...\\n', '\\n', '04/03/24 22:18:28\\n', '\\n', '\\n', '04/03/24 22:18:28\\n', '\\n', '9.5 h,\\tDirect light ray tracing ... \\n', '\\n', '04/03/24 22:18:30\\n', '\\n', '9.5 h,\\tDiffuse light ray tracing ...\\n', '\\n', '04/03/24 22:18:33\\n', '\\n', '\\n', '04/03/24 22:18:33\\n', '\\n', '10.5 h,\\tDirect light ray tracing ... \\n', '\\n', '04/03/24 22:18:35\\n', '\\n', '10.5 h,\\tDiffuse light ray tracing ...\\n', '\\n', '04/03/24 22:18:39\\n', '\\n', '\\n', '04/03/24 22:18:39\\n', '\\n', '11.5 h,\\tDirect light ray tracing ... \\n', '\\n', '04/03/24 22:18:40\\n', '\\n', '11.5 h,\\tDiffuse light ray tracing ...\\n', '\\n', '04/03/24 22:18:44\\n', '\\n', '\\n', '04/03/24 22:18:44\\n', '\\n', '12.5 h,\\tDirect light ray tracing ... \\n', '\\n', '04/03/24 22:18:46\\n', '\\n', '12.5 h,\\tDiffuse light ray tracing ...\\n', '\\n', '04/03/24 22:18:51\\n', '\\n', '\\n', '04/03/24 22:18:51\\n', '\\n', '13.5 h,\\tDirect light ray tracing ... \\n', '\\n', '04/03/24 22:18:53\\n', '\\n', '13.5 h,\\tDiffuse light ray tracing ...\\n', '\\n', '04/03/24 22:18:57\\n', '\\n', '\\n', '04/03/24 22:18:57\\n', '\\n', '14.5 h,\\tDirect light ray tracing ... \\n', '\\n', '04/03/24 22:18:59\\n', '\\n', '14.5 h,\\tDiffuse light ray tracing ...\\n', '\\n', '04/03/24 22:19:02\\n', '\\n', '\\n', '04/03/24 22:19:02\\n', '\\n', '15.5 h,\\tDirect light ray tracing ... \\n', '\\n', '04/03/24 22:19:05\\n', '\\n', '15.5 h,\\tDiffuse light ray tracing ...\\n', '\\n', '04/03/24 22:19:08\\n', '\\n', '\\n', '04/03/24 22:19:08\\n', '\\n', '16.5 h,\\tDirect light ray tracing ... \\n', '\\n', '04/03/24 22:19:12\\n', '\\n', '16.5 h,\\tDiffuse light ray tracing ...\\n', '\\n', '04/03/24 22:19:16\\n', '\\n', '\\n', '04/03/24 22:19:16\\n', '\\n', '17.5 h,\\tDirect light ray tracing ... \\n', '\\n', '04/03/24 22:19:22\\n', '\\n', '17.5 h,\\tDiffuse light ray tracing ...\\n', '\\n', '04/03/24 22:19:25\\n', '\\n', 'Finish!\\n']\n",
      "3\n",
      "..\\FastTracer_2021\\fastTracerVS2019.exe -D 30 90 30 90 0 120 -L 31 -S 12 -A 0.7 -d 222 -W 6.5 1 17.5 -n 0.1 -t 0.075 -r 0.075 -m ..\\CM\\CM_0810-JY5B-ca1_F1-TN-rep3.txt -o ..\\PPFD\\PPFD_0810-JY5B-ca1_F1-TN-rep3.txt\n"
     ]
    },
    {
     "ename": "KeyboardInterrupt",
     "evalue": "",
     "output_type": "error",
     "traceback": [
      "\u001b[1;31m---------------------------------------------------------------------------\u001b[0m",
      "\u001b[1;31mKeyboardInterrupt\u001b[0m                         Traceback (most recent call last)",
      "Cell \u001b[1;32mIn[19], line 10\u001b[0m\n\u001b[0;32m      8\u001b[0m \u001b[38;5;28mprint\u001b[39m(cmdline)\n\u001b[0;32m      9\u001b[0m f\u001b[38;5;241m=\u001b[39mos\u001b[38;5;241m.\u001b[39mpopen(cmdline)\n\u001b[1;32m---> 10\u001b[0m data\u001b[38;5;241m=\u001b[39m\u001b[43mf\u001b[49m\u001b[38;5;241;43m.\u001b[39;49m\u001b[43mreadlines\u001b[49m\u001b[43m(\u001b[49m\u001b[43m)\u001b[49m\n\u001b[0;32m     11\u001b[0m f\u001b[38;5;241m.\u001b[39mclose()\n\u001b[0;32m     12\u001b[0m \u001b[38;5;28mprint\u001b[39m(data)\n",
      "\u001b[1;31mKeyboardInterrupt\u001b[0m: "
     ]
    }
   ],
   "source": [
    "for c in range(2):\n",
    "    cn=cultivarNames[c]\n",
    "    for t in range(9):\n",
    "            cmdline='..\\\\FastTracer_2021\\\\fastTracerVS2019.exe -D 30 90 30 90 0 120 -L 31 -S 12 -A 0.7 -d '+DOY[s]+' -W 6.5 1 17.5 -n 0.1 -t 0.075 -r 0.075 -m ..\\\\CM\\\\CM_'+stageDates[s]+'-'+cn+'-'+traits[t]+'-rep'+str(rep)+'.txt -o ..\\\\PPFD\\\\PPFD_'+stageDates[s]+'-'+cn+'-'+traits[t]+'-rep'+str(rep)+'.txt'\n",
    "            print(cmdline)\n",
    "            f=os.popen(cmdline)\n",
    "            data=f.readlines()\n",
    "            f.close()\n",
    "            print(data)\n",
    "            "
   ]
  },
  {
   "cell_type": "code",
   "execution_count": 20,
   "id": "5c2a0bab",
   "metadata": {},
   "outputs": [],
   "source": [
    "cultivarNames=['JY5B-ca1','JP69-CA2','JYY69-F1']"
   ]
  },
  {
   "cell_type": "code",
   "execution_count": 22,
   "id": "88cee240",
   "metadata": {},
   "outputs": [
    {
     "name": "stdout",
     "output_type": "stream",
     "text": [
      "1\n",
      "..\\FastTracer_2021\\fastTracerVS2019.exe -D 30 90 30 90 0 120 -L 31 -S 12 -A 0.7 -d 222 -W 6.5 1 17.5 -n 0.1 -t 0.075 -r 0.075 -m ..\\CM\\CM_0810-JY5B-ca1-rep1.txt -o ..\\PPFD\\PPFD_0810-JY5B-ca1-rep1.txt\n"
     ]
    },
    {
     "ename": "KeyboardInterrupt",
     "evalue": "",
     "output_type": "error",
     "traceback": [
      "\u001b[1;31m---------------------------------------------------------------------------\u001b[0m",
      "\u001b[1;31mKeyboardInterrupt\u001b[0m                         Traceback (most recent call last)",
      "Cell \u001b[1;32mIn[22], line 9\u001b[0m\n\u001b[0;32m      7\u001b[0m \u001b[38;5;28mprint\u001b[39m(cmdline)\n\u001b[0;32m      8\u001b[0m f\u001b[38;5;241m=\u001b[39mos\u001b[38;5;241m.\u001b[39mpopen(cmdline)\n\u001b[1;32m----> 9\u001b[0m data\u001b[38;5;241m=\u001b[39m\u001b[43mf\u001b[49m\u001b[38;5;241;43m.\u001b[39;49m\u001b[43mreadlines\u001b[49m\u001b[43m(\u001b[49m\u001b[43m)\u001b[49m\n\u001b[0;32m     10\u001b[0m f\u001b[38;5;241m.\u001b[39mclose()\n\u001b[0;32m     11\u001b[0m \u001b[38;5;28mprint\u001b[39m(data)\n",
      "\u001b[1;31mKeyboardInterrupt\u001b[0m: "
     ]
    }
   ],
   "source": [
    "for c in range(3):\n",
    "    cn=cultivarNames[c]\n",
    "    cmdline='..\\\\FastTracer_2021\\\\fastTracerVS2019.exe -D 30 90 30 90 0 120 -L 31 -S 12 -A 0.7 -d '+DOY[s]+' -W 6.5 1 17.5 -n 0.1 -t 0.075 -r 0.075 -m ..\\\\CM\\\\CM_'+stageDates[s]+'-'+cn+'-rep'+str(rep)+'.txt -o ..\\\\PPFD\\\\PPFD_'+stageDates[s]+'-'+cn+'-rep'+str(rep)+'.txt'\n",
    "    print(cmdline)\n",
    "    f=os.popen(cmdline)\n",
    "    data=f.readlines()\n",
    "    f.close()\n",
    "    print(data)"
   ]
  },
  {
   "cell_type": "code",
   "execution_count": null,
   "id": "0c59ac75-6dd5-4abc-8b6f-7764cc65c8a4",
   "metadata": {},
   "outputs": [],
   "source": []
  }
 ],
 "metadata": {
  "kernelspec": {
   "display_name": "Python 3 (ipykernel)",
   "language": "python",
   "name": "python3"
  },
  "language_info": {
   "codemirror_mode": {
    "name": "ipython",
    "version": 3
   },
   "file_extension": ".py",
   "mimetype": "text/x-python",
   "name": "python",
   "nbconvert_exporter": "python",
   "pygments_lexer": "ipython3",
   "version": "3.11.9"
  }
 },
 "nbformat": 4,
 "nbformat_minor": 5
}
